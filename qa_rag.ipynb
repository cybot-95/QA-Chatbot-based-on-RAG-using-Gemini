{
 "cells": [
  {
   "cell_type": "code",
   "execution_count": 1,
   "metadata": {},
   "outputs": [],
   "source": [
    "#Setting up API Keys\n",
    "import os\n",
    "from dotenv import load_dotenv\n",
    "\n",
    "load_dotenv()\n",
    "\n",
    "GEMINI_API_KEY = os.getenv(\"GEMINI_API_KEY\")\n",
    "PINECONE_API_KEY = os.getenv(\"PINECONE_API_KEY\")\n"
   ]
  },
  {
   "cell_type": "code",
   "execution_count": 2,
   "metadata": {},
   "outputs": [
    {
     "name": "stderr",
     "output_type": "stream",
     "text": [
      "c:\\Users\\venky\\anaconda3\\envs\\vrag\\Lib\\site-packages\\tqdm\\auto.py:21: TqdmWarning: IProgress not found. Please update jupyter and ipywidgets. See https://ipywidgets.readthedocs.io/en/stable/user_install.html\n",
      "  from .autonotebook import tqdm as notebook_tqdm\n"
     ]
    }
   ],
   "source": [
    "#Setting Up Gemini LLM API\n",
    "from langchain_google_genai import ChatGoogleGenerativeAI\n",
    "from langchain_google_genai import GoogleGenerativeAIEmbeddings\n",
    "\n",
    "model = ChatGoogleGenerativeAI(model=\"gemini-1.5-flash-latest\", google_api_key=GEMINI_API_KEY, temperature=0.2)\n",
    "embeddings = GoogleGenerativeAIEmbeddings(model=\"models/embedding-001\",google_api_key=GEMINI_API_KEY)\n",
    "     "
   ]
  },
  {
   "cell_type": "code",
   "execution_count": 3,
   "metadata": {},
   "outputs": [
    {
     "data": {
      "text/plain": [
       "AIMessage(content=\"Why don't scientists trust atoms?\\n\\nBecause they make up everything! \\n\", response_metadata={'prompt_feedback': {'block_reason': 0, 'safety_ratings': []}, 'finish_reason': 'STOP', 'safety_ratings': [{'category': 'HARM_CATEGORY_SEXUALLY_EXPLICIT', 'probability': 'NEGLIGIBLE', 'blocked': False}, {'category': 'HARM_CATEGORY_HATE_SPEECH', 'probability': 'NEGLIGIBLE', 'blocked': False}, {'category': 'HARM_CATEGORY_HARASSMENT', 'probability': 'NEGLIGIBLE', 'blocked': False}, {'category': 'HARM_CATEGORY_DANGEROUS_CONTENT', 'probability': 'NEGLIGIBLE', 'blocked': False}]}, id='run-b934f5d7-feec-4f48-9e30-f74dcd35462e-0', usage_metadata={'input_tokens': 6, 'output_tokens': 16, 'total_tokens': 22})"
      ]
     },
     "execution_count": 3,
     "metadata": {},
     "output_type": "execute_result"
    }
   ],
   "source": [
    "#Testing the LLM\n",
    "model.invoke(\"Tell me a joke!\")"
   ]
  },
  {
   "cell_type": "code",
   "execution_count": 5,
   "metadata": {},
   "outputs": [
    {
     "data": {
      "text/plain": [
       "\"I am a large language model, trained by Google.\\n\\n**Here's what you need to know about me:**\\n\\n* **I'm a computer program:** I'm not a person, but I can process information and generate text like a human.\\n* **I'm trained on a massive dataset:** I've learned to communicate and generate human-like text by being trained on a vast amount of text and code.\\n* **I can do many things:** I can answer your questions, write different kinds of creative content, and translate languages.\\n* **I'm still under development:** I'm constantly learning and improving, and I'm always working to become more helpful and informative.\\n\\n**Here are some things I can do:**\\n\\n* **Provide information:** I can answer your questions on a wide range of topics.\\n* **Generate creative content:** I can write stories, poems, scripts, musical pieces, email, letters, etc.\\n* **Translate languages:** I can translate text between many different languages.\\n* **Summarize text:** I can provide concise summaries of long articles or documents.\\n* **Answer your questions in a comprehensive and informative way:** I strive to provide you with the most relevant and accurate information possible.\\n\\n**I'm here to help you:**\\n\\nI'm always learning and improving, and I'm excited to see what I can do for you. If you have any questions or requests, please don't hesitate to ask. \\n\""
      ]
     },
     "execution_count": 5,
     "metadata": {},
     "output_type": "execute_result"
    }
   ],
   "source": [
    "#To Format the output/response\n",
    "from langchain_core.output_parsers import StrOutputParser\n",
    "\n",
    "parser = StrOutputParser()\n",
    "\n",
    "chain = model | parser\n",
    "chain.invoke(\"Who are you, tell me about yourself!\")"
   ]
  },
  {
   "cell_type": "code",
   "execution_count": 19,
   "metadata": {},
   "outputs": [
    {
     "data": {
      "text/plain": [
       "' \\nAnswer the questions based on the context below, If you don\\'t know the answer,\\n just say that you don\\'t know, don\\'t try to make up an answer. \\n Keep the answer as concise as possible. \\n Always say \"thanks for asking!\" at the end of the answer\\n\\n Context: Here is some context\\n\\n Question: Here is a question\\n'"
      ]
     },
     "execution_count": 19,
     "metadata": {},
     "output_type": "execute_result"
    }
   ],
   "source": [
    "#Creating a Template for bot\n",
    "from langchain.prompts import PromptTemplate\n",
    "\n",
    "template = \"\"\" \n",
    "Answer the questions based on the context below, If you don't know the answer,\n",
    " just say that you don't know, don't try to make up an answer. \n",
    " Keep the answer as concise as possible. \n",
    " Always say \"thanks for asking!\" at the end of the answer\n",
    "\n",
    " Context: {context}\n",
    "\n",
    " Question: {question}\n",
    "\"\"\"\n",
    "\n",
    "prompt = PromptTemplate.from_template(template)\n",
    "prompt.format(context=\"Here is some context\", question=\"Here is a question\")"
   ]
  },
  {
   "cell_type": "code",
   "execution_count": 20,
   "metadata": {},
   "outputs": [
    {
     "data": {
      "text/plain": [
       "'You live in Guledgudd. \\nThanks for asking! \\n'"
      ]
     },
     "execution_count": 20,
     "metadata": {},
     "output_type": "execute_result"
    }
   ],
   "source": [
    "#Pipelining the model(LLM) with prompt \n",
    "chain = prompt | model | parser\n",
    "chain.invoke({\"context\": \"I Live in a town called Guledgudd\", \"question\": \"Where do I live?\"})"
   ]
  },
  {
   "cell_type": "code",
   "execution_count": null,
   "metadata": {},
   "outputs": [],
   "source": [
    "#Loading the data and spliting it\n",
    "from langchain_community.document_loaders import PyPDFLoader\n",
    "\n",
    "loader = PyPDFLoader(\"Exception Handling in Python.pdf\")\n",
    "pages =  loader.load_and_split()\n",
    "pages"
   ]
  },
  {
   "cell_type": "code",
   "execution_count": null,
   "metadata": {},
   "outputs": [],
   "source": [
    "len(pages)"
   ]
  },
  {
   "cell_type": "code",
   "execution_count": null,
   "metadata": {},
   "outputs": [],
   "source": [
    "#Converting the text data into small size chunks \n",
    "from langchain.text_splitter import RecursiveCharacterTextSplitter\n",
    "from langchain.chains import RetrievalQA\n",
    "\n",
    "text_splitter = RecursiveCharacterTextSplitter(chunk_size=10000, chunk_overlap=1000)\n",
    "context = \"\\n\\n\".join(str(p.page_content) for p in pages)\n",
    "texts = text_splitter.split_text(context)\n"
   ]
  },
  {
   "cell_type": "code",
   "execution_count": 21,
   "metadata": {},
   "outputs": [
    {
     "data": {
      "text/plain": [
       "{'dimension': 768,\n",
       " 'index_fullness': 0.0,\n",
       " 'namespaces': {'': {'vector_count': 1}},\n",
       " 'total_vector_count': 1}"
      ]
     },
     "execution_count": 21,
     "metadata": {},
     "output_type": "execute_result"
    }
   ],
   "source": [
    "#Setting up Pinecone API\n",
    "from pinecone import Pinecone\n",
    "\n",
    "pc = Pinecone(api_key=PINECONE_API_KEY)\n",
    "index = pc.Index(\"demo\")\n",
    "index.describe_index_stats()"
   ]
  },
  {
   "cell_type": "code",
   "execution_count": null,
   "metadata": {},
   "outputs": [],
   "source": [
    "#To upsert new data to Pinecone(! Run only when uploading the new data)\n",
    "from langchain_pinecone import Pinecone\n",
    "vectorstore = Pinecone.from_texts(\n",
    "    texts, \n",
    "    embeddings, \n",
    "    index_name='demo'\n",
    ")\n",
    "vectorstore"
   ]
  },
  {
   "cell_type": "code",
   "execution_count": 22,
   "metadata": {},
   "outputs": [
    {
     "data": {
      "text/plain": [
       "<langchain_pinecone.vectorstores.Pinecone at 0x1febc681910>"
      ]
     },
     "execution_count": 22,
     "metadata": {},
     "output_type": "execute_result"
    }
   ],
   "source": [
    "#To Use Pinecone only to fetch the data\n",
    "from langchain_pinecone import Pinecone\n",
    "vectorstore = Pinecone(index_name='demo', embedding=embeddings)\n",
    "vectorstore"
   ]
  },
  {
   "cell_type": "code",
   "execution_count": 23,
   "metadata": {},
   "outputs": [
    {
     "data": {
      "text/plain": [
       "[Document(page_content='Exception Handling in Python  \\n  \\nAn exception is an error that occurs during program execution.  \\nWhen an exception occurs in an application, the system throws an error.  \\nThe error is handled through the process of exception handling. The \\nerrors in a program are called as \"bugs\", and the process of removing \\nthem are called as \"debugging\"  \\n  \\n  \\nTypes of Errors  \\n  \\nThe three types of errors that can occur in an application are:   \\n  \\n• Compile -time errors  (Syntax errors ) \\n• Run-time errors  \\n• Logical errors  \\n  \\n  \\nSyntax errors  \\n  \\nWe write many program statements using code constructs.   \\nSometimes we may miss colon or any other punctuation in syntax.  This \\nis a syntax error.  \\n  \\nSuch errors are detected by compiler and line number along with the  \\ndescription is displayed by the Python compiler.  \\n  \\n  \\nRun-time errors  \\n  \\nWhen PVM cannot execute a byte code, it flags run -time error.  \\nExample:   \\nInsufficient memory to store,   \\nInability to execute some statements\\n\\nRuntime errors are not detected by Python compiler.  They \\nare detected by PVM only at runtime  \\nmylist=[12,13,14,15]  \\nprint(mylist)  \\nprint(mylist[4])  \\n  \\nDivision by zero is a run -time error.   \\n  \\nnum1 = int(input(\"Enter Number1: \\\\n\"))  \\nnum2 = int(input(\"Enter Number2: \\\\n\"))  \\nnum3=num1/num2  \\nprint(\"num1/num2 = \" , num3)  \\n  \\n  \\nLogical errors  \\n  \\nThese errors depict the flaws in the logic of the program.   \\nThese errors may occur when a programmer wrongly defined the logical  \\nstatements of the program.   \\n  \\nLogical errors are not detected by compiler or PVM  The \\nprogrammer is solely responsible for them.   \\n  \\nObjective of the program is to divide the first number by second number.  \\nThe programmer written as second / first, hence  \\n  \\nnum1 = int(input(\"Enter Number1: \\\\n\"))  \\nnum2 = int(input(\"Enter Number2: \\\\n\"))  \\nnum3=num2/num1  \\nprint(\"num1/num2 = \" , num3)  \\n  \\nThis is a logical error. The correct statement should have been:  \\nNum3=Num1/Num2;\\n\\n# Program to increment the salary of an employee by 15%  \\n  \\ndef increSal(sal):     \\nsal=sal*15/100  \\n    return sal  \\n  \\nsalary=increSal(5000)  \\nprint(\"Incremented Salary \",salary)  \\n  \\nThe correct statement is   \\n sal=sal+(sal*15/100)  \\n  \\n  \\n  \\nException Handling  \\n  \\nAn exception is a run time error which can be handled by the \\nprogrammer.   \\nThe programmer should guess the error causes in the program and \\nneed to be eliminate the error.  All exceptions are represented as \\nclasses in Python   \\nThe Exceptions which are already available in Python are called as built \\nin Exceptions.   \\nThe base class for all built in exception is \"BaseException\" class.  \\nFrom BaseException, the sub class \"Exception\" is derived.  from \\nException class, the sub classes \"StandardError\\' and \"Warning\" are \\nderived   \\n  \\nExceptions in a program are handled by using exception handlers. To \\nimplement exception handling, a program is divided into blocks of \\ncode.\\n\\nThe blocks for exception handling can be implemented  \\nusing the following keywords:  \\n  \\nPython try except \\nBlock  \\nThe try...except block is used to handle exceptions in Python.  \\n  \\nSyntax:  \\n try:  \\n    # code that may cause exception except:  \\n    # code to run when exception occurs  \\n  \\n  \\nHere, we have placed the code that might generate an exception inside \\nthe try block.  \\nEvery try block is followed by an except block.  \\n  \\nWhen an exception occurs, it is caught by the except block.  The \\nexcept block cannot be used without the try block.  \\n  \\n  \\nCatching Specific Exceptions in Python  \\nFor each try block, there can be zero or more except blocks.   \\n  \\nExample :  \\n try:  \\n    num1 = int(input(\"Enter Number1: \\\\n\"))    \\n    num2 =  int(input(\"Enter Number1: \\\\n\"))                   \\n    num3=num1/num2  \\n    print(\"num1/num2 = ” ,num3) \\nexcept:     \\n   print(\"Divisible by Zero attempted \")  \\n  \\nNote: Here the except block has no specific class to hold the exception\\n\\nExample -2:  \\n  \\n try:  \\n    num1 = int(input(\"Enter Number1: \\\\n\"))  \\n    num2 = int(input(\"Enter Number2: \\\\n\"))  \\n    num3=num1/num2   \\n   print(\"num1/num2 = \" , num3) \\nexcept ZeroDivisionError as e:   \\n  print(e)  \\n  \\n  \\n  \\nMultiple except blocks allow us to handle each exception \\ndifferently.  \\nThe argument type of each except block indicates the type of \\nexception that can be handled by it.   \\n  \\nnum1=int(input(\"Enter Number1\"))  \\nnum2=int(input(\"Enter Number2\"))  \\ntry:  \\n          print(num1/num2)  \\n          print(\"No print statement or message\" )      \\n          print(\\'10\\'+num2)  \\nexcept TypeError:           \\n          print(\"Attempted to add incompatible types\")  \\nexcept ZeroDivisionError:            \\n          print(\"Attempted to divided by 0\")  \\nexcept ZeroDivisionError:   \\n          print(\"Cannot divide by 0\")               \\nexcept:            \\n         print(\"Something went wrong\")\\n\\nFinally Block in Python  \\n  \\nTo execute a block in all circumstances, irrespective to the exception,  \\nYou can include a finally exception block after the last except block  \\n  \\nnum1=int(input(\"Enter Number1 \\\\n\"))  \\nnum2=int(input(\"Enter Number2 \\\\n\"))  \\ntry:  \\n          print(num1/num2)    \\n          print(\"No exception\")             \\nexcept ZeroDivisionError as e:  \\n          print(e)  \\n          print(\"Attempted to divided by 0\")  \\n finally:          \\n         print(\"Block executes no matter Exception raised or not .\")')]"
      ]
     },
     "execution_count": 23,
     "metadata": {},
     "output_type": "execute_result"
    }
   ],
   "source": [
    "#To Retrieve the data from index\n",
    "ret = vectorstore.as_retriever()\n",
    "ret.invoke(\"syntax errors\")"
   ]
  },
  {
   "cell_type": "code",
   "execution_count": 24,
   "metadata": {},
   "outputs": [],
   "source": [
    "#Pipelining the Model with Pinecone\n",
    "from operator import itemgetter\n",
    "\n",
    "chain = (\n",
    "    {\n",
    "        \"context\": itemgetter(\"question\") | ret,\n",
    "        \"question\": itemgetter(\"question\"),\n",
    "    }\n",
    "    | prompt\n",
    "    | model\n",
    "    | parser\n",
    ")"
   ]
  },
  {
   "cell_type": "code",
   "execution_count": 25,
   "metadata": {},
   "outputs": [
    {
     "data": {
      "text/plain": [
       "\"I don't know. \\nThanks for asking! \\n\""
      ]
     },
     "execution_count": 25,
     "metadata": {},
     "output_type": "execute_result"
    }
   ],
   "source": [
    "#Testing the model\n",
    "chain.invoke({'question': \"Who is the prime minister of India?\"})"
   ]
  },
  {
   "cell_type": "code",
   "execution_count": null,
   "metadata": {},
   "outputs": [],
   "source": []
  }
 ],
 "metadata": {
  "kernelspec": {
   "display_name": "vrag",
   "language": "python",
   "name": "python3"
  },
  "language_info": {
   "codemirror_mode": {
    "name": "ipython",
    "version": 3
   },
   "file_extension": ".py",
   "mimetype": "text/x-python",
   "name": "python",
   "nbconvert_exporter": "python",
   "pygments_lexer": "ipython3",
   "version": "3.11.9"
  }
 },
 "nbformat": 4,
 "nbformat_minor": 2
}
